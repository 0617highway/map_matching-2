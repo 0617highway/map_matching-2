{
 "cells": [
  {
   "cell_type": "code",
   "execution_count": 1,
   "metadata": {
    "collapsed": false
   },
   "outputs": [],
   "source": [
    "import os, sys\n",
    "#os.chdir('/home/pedro/SourceCode/map_matching')\n",
    "import pandas as pd\n",
    "from map_matching import *\n",
    "import numpy as np\n",
    "from map_matching.aequilibrae import Graph, PathResults, path_computation\n",
    "from geopy.distance import vincenty as gc\n",
    "from datetime import timedelta\n",
    "from rtree import index"
   ]
  },
  {
   "cell_type": "code",
   "execution_count": 2,
   "metadata": {
    "collapsed": true
   },
   "outputs": [],
   "source": [
    "out_folder = load_parameters('output_folder')\n",
    "\n",
    "trips = Trip()\n",
    "\n",
    "# data quality parameters\n",
    "p = load_parameters('data quality')\n",
    "trips.set_data_quality_parameters(p)\n",
    "\n",
    "trips.set_stop_algorithm('Maximum space')\n",
    "p = load_parameters('stops parameters')[trips.stops_algorithm]\n",
    "trips.set_stops_parameters(p)\n",
    "\n",
    "# Loading the GPS DATA\n",
    "df = pd.read_csv('example_data/example_data_generic_gps_data.csv')\n",
    "df['datetime']= df.Date.astype(str) + ' ' + df.time.astype(str)\n",
    "df.datetime = pd.to_datetime(df.datetime)\n",
    "\n",
    "# Data source specific\n",
    "field_dict = {\"latitude\": \"LATITUDE\",\n",
    "              \"longitude\": \"LONGITUDE\",\n",
    "              \"timestamp\": \"datetime\"}\n",
    "\n",
    "trips.populate_with_dataframe(df, field_dict)"
   ]
  },
  {
   "cell_type": "code",
   "execution_count": 3,
   "metadata": {
    "collapsed": false
   },
   "outputs": [
    {
     "name": "stdout",
     "output_type": "stream",
     "text": [
      "Creating nodes spatial index\n"
     ]
    },
    {
     "name": "stdout",
     "output_type": "stream",
     "text": [
      "     NODES spatial index created successfully\nCreating graph from shapefile\n"
     ]
    },
    {
     "name": "stdout",
     "output_type": "stream",
     "text": [
      "Some skim field with wrong type. Converting to float64\n"
     ]
    },
    {
     "name": "stdout",
     "output_type": "stream",
     "text": [
      "Creating network spatial index\n"
     ]
    },
    {
     "name": "stdout",
     "output_type": "stream",
     "text": [
      "      Link 39659 could not have its buffer computed\n"
     ]
    },
    {
     "name": "stdout",
     "output_type": "stream",
     "text": [
      "      Link 40695 could not have its buffer computed\n"
     ]
    },
    {
     "name": "stdout",
     "output_type": "stream",
     "text": [
      "      Link 42165 could not have its buffer computed\n"
     ]
    },
    {
     "name": "stdout",
     "output_type": "stream",
     "text": [
      "      Link 44233 could not have its buffer computed\n"
     ]
    },
    {
     "name": "stdout",
     "output_type": "stream",
     "text": [
      "      Link 45159 could not have its buffer computed\n"
     ]
    },
    {
     "name": "stdout",
     "output_type": "stream",
     "text": [
      "      Link 119094 could not have its buffer computed\n"
     ]
    },
    {
     "name": "stdout",
     "output_type": "stream",
     "text": [
      "     LINKS spatial index created successfully\n"
     ]
    }
   ],
   "source": [
    "# Loading the NETWORK\n",
    "net = Network(out_folder)\n",
    "par = load_parameters('geoprocessing parameters')\n",
    "net.set_geometry_parameters(par)\n",
    "\n",
    "net.load_nodes('example_data/FAF_Nodes.shp', 'ID')\n",
    "\n",
    "p = load_parameters('network file fields')\n",
    "net.load_network('example_data/FAF_Network.shp', p)"
   ]
  },
  {
   "cell_type": "code",
   "execution_count": 4,
   "metadata": {
    "collapsed": true
   },
   "outputs": [],
   "source": [
    "find_stops(trips)\n",
    "find_network_links(trips, net)"
   ]
  },
  {
   "cell_type": "code",
   "execution_count": 5,
   "metadata": {
    "collapsed": true
   },
   "outputs": [],
   "source": [
    "trip = trips\n",
    "network = net"
   ]
  },
  {
   "cell_type": "code",
   "execution_count": 6,
   "metadata": {
    "collapsed": true
   },
   "outputs": [],
   "source": [
    "def InterpolateTS(arrives_tstamps, leaves_tstamps, pathnodes, all_links,  network):\n",
    "    graph = network.graph\n",
    "    consistent = False\n",
    "    while not consistent:\n",
    "        consistent = True\n",
    "        for i in range(len(pathnodes)-1):\n",
    "            o = pathnodes[i]\n",
    "            if o in arrives_tstamps.keys():\n",
    "                for j in xrange(i + 1, len(pathnodes)):\n",
    "                    d = pathnodes[j]\n",
    "                    if d in arrives_tstamps.keys():\n",
    "                        if arrives_tstamps[o] > arrives_tstamps[d]:\n",
    "                            if i > 0:\n",
    "                                leaves_tstamps.pop(o, None)\n",
    "                                arrives_tstamps.pop(o, None)\n",
    "                            if d != pathnodes[-1]:\n",
    "                                arrives_tstamps.pop(d, None)\n",
    "                                leaves_tstamps.pop(d, None)\n",
    "                            consistent = False\n",
    "                            break\n",
    "                if not consistent:\n",
    "                    break\n",
    "    i = 0\n",
    "    while i < len(pathnodes)-2:\n",
    "        j = i + 1\n",
    "        mp = network.orig_cost[all_links[j - 1]]\n",
    "        while pathnodes[j] not in arrives_tstamps.keys():\n",
    "            mp += network.orig_cost[all_links[j]]\n",
    "            j += 1\n",
    "        \n",
    "        if j > i + 1:  # Means we have at least one node in the path that does not have any path written to it\n",
    "            time_diff = (arrives_tstamps[pathnodes[j]] - leaves_tstamps[pathnodes[i]]).total_seconds()\n",
    "            if time_diff < 0:\n",
    "                del arrives_tstamps\n",
    "                del leaves_tstamps\n",
    "                break\n",
    "            mp2 = 0\n",
    "            for k in xrange(i + 1, j):\n",
    "                mp2 += network.orig_cost[all_links[k - 1]]\n",
    "                j_time = leaves_tstamps[pathnodes[i]] + timedelta(seconds=time_diff*mp2/mp)\n",
    "                arrives_tstamps[pathnodes[k]] = j_time\n",
    "                leaves_tstamps[pathnodes[k]] = j_time\n",
    "        i += 1"
   ]
  },
  {
   "cell_type": "code",
   "execution_count": 10,
   "metadata": {
    "collapsed": true
   },
   "outputs": [],
   "source": [
    "vehicle_trace = trip.gps_trace\n",
    "stops = trip.stops\n",
    "a = pd.Series(trip.graph_links).unique()\n",
    "\n",
    "network.reset_costs()\n",
    "network.graph.cost[a[:]] /= 10\n",
    "\n",
    "# # We select the nodes that are part of the signalized links\n",
    "nodes_a = network.graph.graph['a_node'][network.graph.ids[a]]\n",
    "nodes_b = network.graph.graph['b_node'][network.graph.ids[a]]\n",
    "all_nodes = np.hstack((nodes_a, nodes_b))\n",
    "all_nodes = np.bincount(all_nodes)\n",
    "\n",
    "# Correlate the stop sequence with the nodes signalized to find the node from which we will trace the paths from/to\n",
    "stop_sequence = []\n",
    "for i in stops.index:\n",
    "    x = stops.longitude[i]\n",
    "    y = stops.latitude[i]\n",
    "    t = stops.stop_time[i]\n",
    "    dur = stops.duration[i]\n",
    "    closest_nodes = list(network.idx_nodes.nearest((y, x, y, x), 5000))\n",
    "\n",
    "    found_node = False\n",
    "    for j in closest_nodes:\n",
    "        if j < all_nodes.shape[0]:\n",
    "            if all_nodes[j] > 0:\n",
    "                found_node = True\n",
    "                same = False\n",
    "                if stop_sequence:\n",
    "                    if stop_sequence[-1][0] == j:\n",
    "                        same = True\n",
    "                if not same:\n",
    "                    stop_sequence.append((j, t, dur))  # The time stamp and duration will be needed to setup\n",
    "                    # the time stamps for all the nodes along the path\n",
    "                break\n",
    "    if not found_node:\n",
    "        stop_sequence.append((closest_nodes[0], t, dur))\n",
    "\n",
    "results = PathResults()\n",
    "results.prepare(network.graph)\n",
    "#Now we need to compute the paths with the sequence of stops\n",
    "all_links = []\n",
    "all_nodes = []\n",
    "all_arrives_tstamps = []\n",
    "all_leaves_tstamps = []"
   ]
  },
  {
   "cell_type": "code",
   "execution_count": 11,
   "metadata": {
    "collapsed": false,
    "scrolled": true
   },
   "outputs": [],
   "source": [
    "for i in range(len(stop_sequence) - 1):\n",
    "    distances = {}\n",
    "    origin = stop_sequence[i][0]\n",
    "    destination = stop_sequence[i + 1][0]\n",
    "    \n",
    "    if origin != destination:\n",
    "        break"
   ]
  },
  {
   "cell_type": "code",
   "execution_count": 12,
   "metadata": {
    "collapsed": true
   },
   "outputs": [
    {
     "ename": "TypeError",
     "evalue": "unsupported type for timedelta seconds component: numpy.int64",
     "traceback": [
      "\u001b[1;31m\u001b[0m",
      "\u001b[1;31mTypeError\u001b[0mTraceback (most recent call last)",
      "\u001b[1;32m<ipython-input-12-2be4672193c8>\u001b[0m in \u001b[0;36m<module>\u001b[1;34m()\u001b[0m\n\u001b[0;32m      4\u001b[0m \u001b[1;32mif\u001b[0m \u001b[0mresults\u001b[0m\u001b[1;33m.\u001b[0m\u001b[0mpath\u001b[0m \u001b[1;32mis\u001b[0m \u001b[1;32mnot\u001b[0m \u001b[0mNone\u001b[0m\u001b[1;33m:\u001b[0m\u001b[1;33m\u001b[0m\u001b[0m\n\u001b[0;32m      5\u001b[0m     \u001b[1;31m#Now we build a spatial index with the subset of pings in the truck trace between the origin and destination\u001b[0m\u001b[1;33m\u001b[0m\u001b[1;33m\u001b[0m\u001b[0m\n\u001b[1;32m----> 6\u001b[1;33m     ping_subset = vehicle_trace[(vehicle_trace.timestamp > stop_sequence[i][1] + timedelta(seconds=stop_sequence[i][2])) \n\u001b[0m\u001b[0;32m      7\u001b[0m                                 & (vehicle_trace.timestamp < stop_sequence[i + 1][1])]\n\u001b[0;32m      8\u001b[0m \u001b[1;33m\u001b[0m\u001b[0m\n",
      "\u001b[1;31mTypeError\u001b[0m: unsupported type for timedelta seconds component: numpy.int64"
     ],
     "output_type": "error"
    }
   ],
   "source": [
    "arrives_tstamps = {}\n",
    "leaves_tstamps = {}\n",
    "path_computation(origin, destination, network.graph, results)\n",
    "if results.path is not None:\n",
    "    #Now we build a spatial index with the subset of pings in the truck trace between the origin and destination\n",
    "    ping_subset = vehicle_trace[(vehicle_trace.timestamp > stop_sequence[i][1] + timedelta(seconds=stop_sequence[i][2])) \n",
    "                                & (vehicle_trace.timestamp < stop_sequence[i + 1][1])]\n",
    "\n",
    "    temp_idx = index.Index()\n",
    "    for q in list(results.path_nodes):\n",
    "        x = network.nodes.X[q]\n",
    "        y = network.nodes.Y[q]\n",
    "        bbox=(x, y, x, y)\n",
    "        temp_idx.insert(q, bbox)\n",
    "\n",
    "    for k in ping_subset.index:\n",
    "        x = vehicle_trace.longitude[k]\n",
    "        y = vehicle_trace.latitude[k]\n",
    "        near = list(temp_idx.nearest((x, y, x, y), 1))\n",
    "        if len(near) > 0:\n",
    "            q = near[0]\n",
    "            x2 = network.nodes.X[q]\n",
    "            y2 = network.nodes.Y[q]\n",
    "            d = gc((y, x), (y2, x2))\n",
    "            if q not in distances:\n",
    "                leaves_tstamps[q] = vehicle_trace.timestamp[k]\n",
    "                arrives_tstamps[q] = vehicle_trace.timestamp[k]\n",
    "                distances[q] = d\n",
    "            else:\n",
    "                if d < distances[q]:\n",
    "                    leaves_tstamps[q] = vehicle_trace.timestamp[k]\n",
    "                    arrives_tstamps[q] = vehicle_trace.timestamp[k]\n",
    "                    distances[q] = d\n",
    "\n",
    "    # Time stamps for the origin and destination of the path\n",
    "    leaves_tstamps[origin] = stop_sequence[i][1] + timedelta(seconds=stop_sequence[i][2])\n",
    "    arrives_tstamps[destination] = stop_sequence[i + 1][1]\n",
    "    print arrives_tstamps\n",
    "    InterpolateTS(arrives_tstamps, leaves_tstamps, results.path_nodes, results.path.copy(), network)\n",
    "    print arrives_tstamps\n",
    "    # For completeness\n",
    "    if 0 < stop_sequence[i + 1][2] < 100000:\n",
    "        leaves_tstamps[destination] = arrives_tstamps[destination] + timedelta(seconds=stop_sequence[i + 1][2])\n",
    "    else:\n",
    "        leaves_tstamps[destination] = np.nan\n",
    "\n",
    "    if 0 < stop_sequence[i][2] < 100000:\n",
    "        arrives_tstamps[origin] = stop_sequence[i][1]\n",
    "    else:\n",
    "        arrives_tstamps[origin] = np.nan\n",
    "\n",
    "    q1 = []\n",
    "    q2 = []\n",
    "    for k in all_nodes[:-1]:\n",
    "        if k in arrives_tstamps.keys():\n",
    "            q1.append(arrives_tstamps[k])\n",
    "        else:\n",
    "            print \"No node\", k, 'in the arrives stamps'\n",
    "        if k in leaves_tstamps.keys():\n",
    "            q2.append(leaves_tstamps[k])\n",
    "        else:\n",
    "            print \"No node\", k, 'in the leaves stamps'\n",
    "    all_arrives_tstamps.append(q1)\n",
    "    all_leaves_tstamps.append(q2)\n",
    "    \n",
    "    all_links = all_links + list(results.path)\n",
    "    all_links.append(-1)\n",
    "    all_nodes = all_nodes + list(results.path_nodes)\n",
    "results.reset()"
   ]
  },
  {
   "cell_type": "code",
   "execution_count": 56,
   "metadata": {
    "collapsed": true
   },
   "outputs": [
    {
     "name": "stdout",
     "output_type": "stream",
     "text": [
      "16130\n",
      "16128\n",
      "16155\n",
      "16166\n",
      "16163\n",
      "16160\n",
      "16168\n",
      "16170\n",
      "16169\n",
      "16171\n",
      "16156\n",
      "16149\n",
      "16134\n",
      "16125\n",
      "16123\n",
      "16117\n",
      "16113\n",
      "15916\n",
      "15910\n",
      "15901\n",
      "15874\n",
      "15752\n",
      "15749\n",
      "15745\n",
      "15908\n",
      "15913\n",
      "15924\n",
      "15926\n",
      "15934\n",
      "15945\n",
      "15950\n",
      "15959\n",
      "15963\n",
      "15967\n",
      "16049\n",
      "16054\n",
      "16058\n",
      "16105\n",
      "16107\n",
      "16112\n",
      "16158\n",
      "16181\n",
      "16190\n",
      "16288\n",
      "16599\n",
      "16622\n",
      "16639\n",
      "16909\n",
      "16937\n",
      "16979\n",
      "16988\n",
      "16996\n",
      "17070\n",
      "17085\n",
      "17094\n",
      "17107\n",
      "17116\n",
      "17130\n",
      "17142\n",
      "17162\n",
      "17167\n",
      "17183\n",
      "17214\n",
      "17226\n",
      "17238\n",
      "17331\n",
      "17347\n",
      "17357\n",
      "17395\n",
      "17404\n",
      "17415\n",
      "17445\n",
      "17449\n",
      "17455\n",
      "17571\n",
      "18077\n",
      "18079\n",
      "18084\n",
      "18310\n",
      "18311\n",
      "18313\n",
      "18333\n",
      "18402\n",
      "18403\n",
      "18404\n",
      "18408\n",
      "18413\n",
      "18411\n",
      "18410\n",
      "18409\n",
      "18406\n",
      "18414\n",
      "18405\n",
      "18401\n"
     ]
    }
   ],
   "source": [
    "for i in all_nodes[-1:\n",
    "    print i"
   ]
  },
  {
   "cell_type": "code",
   "execution_count": 61,
   "metadata": {
    "collapsed": false
   },
   "outputs": [
    {
     "data": {
      "text/plain": [
       "{18401: Timestamp('2015-06-20 00:00:00'),\n",
       " 18405: Timestamp('2015-06-19 23:44:28.576885'),\n",
       " 18406: nan,\n",
       " 18414: Timestamp('2015-06-19 23:15:31.423115')}"
      ]
     },
     "execution_count": 61,
     "metadata": {},
     "output_type": "execute_result"
    }
   ],
   "source": [
    "arrives_tstamps"
   ]
  },
  {
   "cell_type": "code",
   "execution_count": null,
   "metadata": {
    "collapsed": true
   },
   "outputs": [],
   "source": [
    ""
   ]
  }
 ],
 "metadata": {
  "kernelspec": {
   "display_name": "Python 2",
   "language": "python",
   "name": "python2"
  },
  "language_info": {
   "codemirror_mode": {
    "name": "ipython",
    "version": 2.0
   },
   "file_extension": ".py",
   "mimetype": "text/x-python",
   "name": "python",
   "nbconvert_exporter": "python",
   "pygments_lexer": "ipython2",
   "version": "2.7.9"
  }
 },
 "nbformat": 4,
 "nbformat_minor": 0
}